{
 "cells": [
  {
   "cell_type": "markdown",
   "metadata": {},
   "source": [
    "# Performance comparison of Sudoku solvers\n",
    "\n",
    "Here I compare the performance of three Sudoku solving programs on the same data:\n",
    "\n",
    " * one written in **C** (the fast one)\n",
    " * one written in **Julia** (that funky new language)\n",
    " * Peter Norvig's **Python** Sudoku solver, both in CPython and PyPy.\n",
    " \n",
    "These all use essentially the same algorithm with some minor (?) implementation differences. I wrote the C and Julia versions with guidance from [Peter Norvig's blog post](http://norvig.com/sudoku.html), albeit, one could say, a bit less elegantly."
   ]
  },
  {
   "cell_type": "code",
   "execution_count": 1,
   "metadata": {
    "ExecuteTime": {
     "end_time": "2017-10-17T22:25:47.327040Z",
     "start_time": "2017-10-17T22:25:47.308357Z"
    },
    "collapsed": true
   },
   "outputs": [],
   "source": [
    "sudoku_fn = 'top95.txt'\n",
    "common_args = ['-s', '--timeit=10']\n",
    "\n",
    "commands = {\n",
    "    'CPython 3.5': ['python3.5', 'sudoku.py'] + common_args,\n",
    "    'PyPy3 5.9': ['pypy3', 'sudoku.py'] + common_args,\n",
    "    'C': ['./sudoku', '-C'] + common_args,\n",
    "    'Julia': ['julia', 'sudoku.jl', '-C'] + common_args\n",
    "}\n",
    "\n",
    "gen_command = ['./gen-sudoku', '-s', '1000']"
   ]
  },
  {
   "cell_type": "code",
   "execution_count": 2,
   "metadata": {
    "ExecuteTime": {
     "end_time": "2017-10-17T22:25:48.034948Z",
     "start_time": "2017-10-17T22:25:47.329950Z"
    },
    "collapsed": true
   },
   "outputs": [],
   "source": [
    "%matplotlib inline\n",
    "import time\n",
    "import subprocess\n",
    "from matplotlib import pyplot as plt\n",
    "import numpy as np\n",
    "import pandas as pd"
   ]
  },
  {
   "cell_type": "code",
   "execution_count": 3,
   "metadata": {
    "ExecuteTime": {
     "end_time": "2017-10-17T22:25:48.059381Z",
     "start_time": "2017-10-17T22:25:48.037668Z"
    }
   },
   "outputs": [
    {
     "name": "stdout",
     "output_type": "stream",
     "text": [
      "make: Nothing to be done for 'all'.\n"
     ]
    }
   ],
   "source": [
    "%%bash\n",
    "make"
   ]
  },
  {
   "cell_type": "markdown",
   "metadata": {
    "ExecuteTime": {
     "end_time": "2017-10-17T22:00:10.966258Z",
     "start_time": "2017-10-17T22:00:10.959781Z"
    }
   },
   "source": [
    "Our test data consists of 1000 randomly generated sudokus (by the code in `generator.c`) –"
   ]
  },
  {
   "cell_type": "code",
   "execution_count": 4,
   "metadata": {
    "ExecuteTime": {
     "end_time": "2017-10-17T22:27:44.285047Z",
     "start_time": "2017-10-17T22:25:48.062829Z"
    }
   },
   "outputs": [
    {
     "name": "stdout",
     "output_type": "stream",
     "text": [
      "Generating 1000 sudokus...\n",
      "Done in 116.15993517398601 seconds\n"
     ]
    }
   ],
   "source": [
    "print('Generating 1000 sudokus...')\n",
    "t0 = time.perf_counter()\n",
    "random_sudokus = subprocess.run(gen_command, stdin=subprocess.DEVNULL,\n",
    "                                             stdout=subprocess.PIPE,\n",
    "                                             stderr=subprocess.DEVNULL).stdout\n",
    "print('Done in', time.perf_counter() - t0, 'seconds')"
   ]
  },
  {
   "cell_type": "markdown",
   "metadata": {},
   "source": [
    "These sudokus:\n",
    " * Are based on a randomly generated solution by randomly removing clues\n",
    " * Are guaranteed to have a unique solution\n",
    " * Will no longer be unique if any clue is removed\n",
    " \n",
    "My hope is that this will make them “hard-ish”. The number of clues left varies, and with it the difficulty. It's a nice mix."
   ]
  },
  {
   "cell_type": "code",
   "execution_count": 5,
   "metadata": {
    "ExecuteTime": {
     "end_time": "2017-10-17T22:27:44.663233Z",
     "start_time": "2017-10-17T22:27:44.288315Z"
    }
   },
   "outputs": [
    {
     "data": {
      "text/plain": [
       "<matplotlib.text.Text at 0x7ffa2e2f8160>"
      ]
     },
     "execution_count": 5,
     "metadata": {},
     "output_type": "execute_result"
    },
    {
     "data": {
      "image/png": "[encoded data removed]",
      "text/plain": [
       "<matplotlib.figure.Figure at 0x7ffa2e55e2e8>"
      ]
     },
     "metadata": {},
     "output_type": "display_data"
    }
   ],
   "source": [
    "n_nums = [len([c for c in l if c != '.'])\n",
    "          for l in random_sudokus.decode().strip().split('\\n')]\n",
    "\n",
    "plt.hist(n_nums, bins=8, color='#dddddd', edgecolor='k')\n",
    "plt.xlabel('number of clues')\n",
    "plt.ylabel('puzzles')"
   ]
  },
  {
   "cell_type": "markdown",
   "metadata": {},
   "source": [
    "The programs are going through the list of sudokus once, and solving each one ten times in a row (to increase the reliability of the benchmark)."
   ]
  },
  {
   "cell_type": "code",
   "execution_count": 6,
   "metadata": {
    "ExecuteTime": {
     "end_time": "2017-10-17T22:29:49.187409Z",
     "start_time": "2017-10-17T22:27:44.666111Z"
    }
   },
   "outputs": [
    {
     "name": "stdout",
     "output_type": "stream",
     "text": [
      "Solving test puzzles: C\n",
      "... done in 1.28 s\n",
      "Solving test puzzles: PyPy3 5.9\n",
      "... done in 36.81 s\n",
      "Solving test puzzles: Julia\n",
      "... done in 14.88 s\n",
      "Solving test puzzles: CPython 3.5\n",
      "... done in 71.53 s\n"
     ]
    }
   ],
   "source": [
    "outputs = {}\n",
    "run_times = {}\n",
    "\n",
    "for impl, cmd in commands.items():\n",
    "    print(\"Solving test puzzles:\", impl)\n",
    "    t0 = time.perf_counter()\n",
    "    proc = subprocess.run(cmd, input=random_sudokus,\n",
    "                               stdout=subprocess.PIPE)\n",
    "#     proc = subprocess.run(cmd + ['top95.txt'], stdin=subprocess.DEVNULL,\n",
    "#                           stdout=subprocess.PIPE)\n",
    "    dt = time.perf_counter() - t0\n",
    "    run_times[impl] = dt\n",
    "    print(\"... done in {:.2f} s\".format(dt))\n",
    "    outputs[impl] = proc.stdout.decode('ascii')\n",
    "    "
   ]
  },
  {
   "cell_type": "code",
   "execution_count": 7,
   "metadata": {
    "ExecuteTime": {
     "end_time": "2017-10-17T22:29:49.437459Z",
     "start_time": "2017-10-17T22:29:49.190160Z"
    }
   },
   "outputs": [
    {
     "data": {
      "image/png": "[encoded data removed]",
      "text/plain": [
       "<matplotlib.figure.Figure at 0x7ffa2e311d68>"
      ]
     },
     "metadata": {},
     "output_type": "display_data"
    }
   ],
   "source": [
    "run_time_sorted = pd.Series(run_times).sort_values()\n",
    "\n",
    "plt.plot(run_time_sorted.values, 'ko')\n",
    "plt.xticks(range(len(run_time_sorted)), run_time_sorted.index)\n",
    "plt.ylabel('Total running time (seconds)')\n",
    "plt.ylim(0, 5 * np.ceil(run_time_sorted.max()/5))\n",
    "None"
   ]
  },
  {
   "cell_type": "markdown",
   "metadata": {},
   "source": [
    "To the surprise of absolutely noone, the C implementation is by far the fastest. Julia appears to be, to the shock of anybody who has seen the benchmarks on [julialang.org](https://julialang.org), much slower than C.\n",
    "\n",
    "Norvig's Python code is, of course, much slower than my C version, but reassuringly PyPy's tracing JIT does an excellent job for this kind of repetitive calculation."
   ]
  },
  {
   "cell_type": "code",
   "execution_count": 8,
   "metadata": {
    "ExecuteTime": {
     "end_time": "2017-10-17T22:29:49.489130Z",
     "start_time": "2017-10-17T22:29:49.453982Z"
    }
   },
   "outputs": [],
   "source": [
    "df = pd.DataFrame()\n",
    "for impl, output in outputs.items():\n",
    "    df[impl] = [float(l.strip().split()[1]) for l in output.strip().split('\\n')]"
   ]
  },
  {
   "cell_type": "markdown",
   "metadata": {},
   "source": [
    "If we look at the performance on a puzzle-by-puzzle basis, a somewhat different picture emerges:"
   ]
  },
  {
   "cell_type": "code",
   "execution_count": 9,
   "metadata": {
    "ExecuteTime": {
     "end_time": "2017-10-17T22:29:49.938417Z",
     "start_time": "2017-10-17T22:29:49.491972Z"
    }
   },
   "outputs": [
    {
     "data": {
      "text/plain": [
       "<matplotlib.text.Text at 0x7ffa2aa20dd8>"
      ]
     },
     "execution_count": 9,
     "metadata": {},
     "output_type": "execute_result"
    },
    {
     "data": {
      "image/png": "[encoded data removed]",
      "text/plain": [
       "<matplotlib.figure.Figure at 0x7ffa2aa675f8>"
      ]
     },
     "metadata": {},
     "output_type": "display_data"
    }
   ],
   "source": [
    "df.plot.box(figsize=(6,6))\n",
    "\n",
    "plt.ylabel('Solution time (ms)')"
   ]
  },
  {
   "cell_type": "markdown",
   "metadata": {},
   "source": [
    "Naturally some puzzles are much harder than others and take all the programs a bit more time. The really striking thing is, though, that the Julia and C implementations are *much* closer together than before!\n",
    "\n",
    "Anybody who has actually used Julia will know that this largely due to Julia's agonising JIT overhead: before getting to any actual calculations, the Julia program has to do things like compile the [ArgParse](https://github.com/carlobaldassi/ArgParse.jl) module, not to mention some of my code. The compilation overhead of the actual Sudoku solving methods, however, do show up in the running time for the first puzzle:"
   ]
  },
  {
   "cell_type": "code",
   "execution_count": 10,
   "metadata": {
    "ExecuteTime": {
     "end_time": "2017-10-17T22:29:49.964713Z",
     "start_time": "2017-10-17T22:29:49.946980Z"
    }
   },
   "outputs": [
    {
     "data": {
      "text/html": [
       "<div>\n",
       "<style>\n",
       "    .dataframe thead tr:only-child th {\n",
       "        text-align: right;\n",
       "    }\n",
       "\n",
       "    .dataframe thead th {\n",
       "        text-align: left;\n",
       "    }\n",
       "\n",
       "    .dataframe tbody tr th {\n",
       "        vertical-align: top;\n",
       "    }\n",
       "</style>\n",
       "<table border=\"1\" class=\"dataframe\">\n",
       "  <thead>\n",
       "    <tr style=\"text-align: right;\">\n",
       "      <th></th>\n",
       "      <th>Julia</th>\n",
       "      <th>PyPy3 5.9</th>\n",
       "    </tr>\n",
       "  </thead>\n",
       "  <tbody>\n",
       "    <tr>\n",
       "      <th>0</th>\n",
       "      <td>28.559399</td>\n",
       "      <td>23.486108</td>\n",
       "    </tr>\n",
       "    <tr>\n",
       "      <th>1</th>\n",
       "      <td>11.433506</td>\n",
       "      <td>10.747559</td>\n",
       "    </tr>\n",
       "    <tr>\n",
       "      <th>2</th>\n",
       "      <td>0.244784</td>\n",
       "      <td>10.018841</td>\n",
       "    </tr>\n",
       "    <tr>\n",
       "      <th>3</th>\n",
       "      <td>0.278592</td>\n",
       "      <td>5.612621</td>\n",
       "    </tr>\n",
       "    <tr>\n",
       "      <th>4</th>\n",
       "      <td>0.537586</td>\n",
       "      <td>7.953569</td>\n",
       "    </tr>\n",
       "  </tbody>\n",
       "</table>\n",
       "</div>"
      ],
      "text/plain": [
       "       Julia  PyPy3 5.9\n",
       "0  28.559399  23.486108\n",
       "1  11.433506  10.747559\n",
       "2   0.244784  10.018841\n",
       "3   0.278592   5.612621\n",
       "4   0.537586   7.953569"
      ]
     },
     "execution_count": 10,
     "metadata": {},
     "output_type": "execute_result"
    }
   ],
   "source": [
    "df[['Julia','PyPy3 5.9']].head()"
   ]
  },
  {
   "cell_type": "markdown",
   "metadata": {},
   "source": [
    "PyPy, which also uses a JIT, shows the same behaviour, but it's much less pronounced. In part this may be due to the fact that PyPy has a *tracing* JIT, but mostly it's due to its JIT being much faster and producing a much more modest performance gain.\n",
    "\n",
    "Now, if we hide the outliers in the above plot, we can finally actually see what's going on."
   ]
  },
  {
   "cell_type": "code",
   "execution_count": 11,
   "metadata": {
    "ExecuteTime": {
     "end_time": "2017-10-17T22:29:50.374670Z",
     "start_time": "2017-10-17T22:29:49.972181Z"
    }
   },
   "outputs": [
    {
     "data": {
      "text/plain": [
       "<matplotlib.text.Text at 0x7ffa2a8bb828>"
      ]
     },
     "execution_count": 11,
     "metadata": {},
     "output_type": "execute_result"
    },
    {
     "data": {
      "image/png": "[encoded data removed]",
      "text/plain": [
       "<matplotlib.figure.Figure at 0x7ffa2a8f6128>"
      ]
     },
     "metadata": {},
     "output_type": "display_data"
    }
   ],
   "source": [
    "df.plot.box(showfliers=False, figsize=(6,6))\n",
    "plt.ylabel('Solution time (ms)')"
   ]
  },
  {
   "cell_type": "markdown",
   "metadata": {},
   "source": [
    "On average, the Julia code is some 4.6 times slower than the C version, while the Python code closer to 30–60 times slower."
   ]
  },
  {
   "cell_type": "code",
   "execution_count": 12,
   "metadata": {
    "ExecuteTime": {
     "end_time": "2017-10-17T22:29:50.394873Z",
     "start_time": "2017-10-17T22:29:50.383332Z"
    }
   },
   "outputs": [
    {
     "data": {
      "text/plain": [
       "CPython 3.5    7.121367\n",
       "C              0.125761\n",
       "Julia          0.585234\n",
       "PyPy3 5.9      3.624172\n",
       "dtype: float64"
      ]
     },
     "execution_count": 12,
     "metadata": {},
     "output_type": "execute_result"
    }
   ],
   "source": [
    "df.mean()"
   ]
  },
  {
   "cell_type": "code",
   "execution_count": 13,
   "metadata": {
    "ExecuteTime": {
     "end_time": "2017-10-17T22:29:50.491567Z",
     "start_time": "2017-10-17T22:29:50.403804Z"
    }
   },
   "outputs": [
    {
     "data": {
      "text/plain": [
       "CPython 3.5    56.625968\n",
       "C               1.000000\n",
       "Julia           4.653526\n",
       "PyPy3 5.9      28.817818\n",
       "dtype: float64"
      ]
     },
     "execution_count": 13,
     "metadata": {},
     "output_type": "execute_result"
    }
   ],
   "source": [
    "df.mean() / df['C'].mean()"
   ]
  },
  {
   "cell_type": "code",
   "execution_count": 14,
   "metadata": {
    "ExecuteTime": {
     "end_time": "2017-10-17T22:36:17.227790Z",
     "start_time": "2017-10-17T22:36:17.205404Z"
    }
   },
   "outputs": [
    {
     "data": {
      "text/plain": [
       "CPython 3.5    0.148604\n",
       "C              0.847317\n",
       "Julia          1.869212\n",
       "PyPy3 5.9      0.402558\n",
       "dtype: float64"
      ]
     },
     "execution_count": 14,
     "metadata": {},
     "output_type": "execute_result"
    }
   ],
   "source": [
    "df.std() / df.mean()"
   ]
  }
 ],
 "metadata": {
  "kernelspec": {
   "display_name": "Python 3",
   "language": "python",
   "name": "python3"
  },
  "language_info": {
   "codemirror_mode": {
    "name": "ipython",
    "version": 3
   },
   "file_extension": ".py",
   "mimetype": "text/x-python",
   "name": "python",
   "nbconvert_exporter": "python",
   "pygments_lexer": "ipython3",
   "version": "3.5.3"
  }
 },
 "nbformat": 4,
 "nbformat_minor": 2
}
